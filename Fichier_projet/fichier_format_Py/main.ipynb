{
 "cells": [
  {
   "cell_type": "code",
   "execution_count": 3,
   "metadata": {},
   "outputs": [
    {
     "name": "stderr",
     "output_type": "stream",
     "text": [
      "100%|\u001b[32m██████████\u001b[0m| 12/12 [01:19<00:00,  6.60s/it]\n"
     ]
    },
    {
     "name": "stdout",
     "output_type": "stream",
     "text": [
      "Votre score est de :  10 / 12\n"
     ]
    }
   ],
   "source": [
    "#*****************************notez que pour utiliser ce fichier vous devez installer le ipykernel si vous le faites depuis votre machine********************************** \n",
    "# avant toute execution tapez la commande suivante \"pip install tqdm\" \n",
    "#tqdm est le module responsable de barre de progres dans le terminal.\n",
    "#Code simple de quiz qui utilise les fonctions definies dans le code precedent pour toute modifications\n",
    "#Pour toutes modifications des questions veuillez respectez la synthaxe des fichiers et les regles ci dessous \n",
    "#-chaque questions doit avoir 4 options numerotees de a à d \n",
    "#-chaque questions doit se terminer par un point dinterrogation(?) suivi d'un espace ' ' et de la lettre de la reponse\n",
    "\n",
    "import random\n",
    "from tqdm import tqdm\n",
    "from IPython.display import clear_output\n",
    "from time import sleep\n",
    "\n",
    "\n",
    "def printList(list:list):\n",
    "    for elt in list:\n",
    "        print(elt)\n",
    "\n",
    "\n",
    "def getData(filename=\"Question\"):#inserer le chemin du ficheier question\n",
    "    data = []\n",
    "    with open(filename, \"r\") as file:\n",
    "        temp = []\n",
    "        for line in file:\n",
    "            temp.append(line.strip())\n",
    "            if len(temp) == 5:\n",
    "                data.append(temp)\n",
    "                temp = []\n",
    "    return data\n",
    "\n",
    "\n",
    "def processData(data):\n",
    "    dic = {}\n",
    "    for elt in data:\n",
    "        question = elt[0].split('?')[0]+'?'\n",
    "        options = [opt.strip() for opt in elt[1:5]]\n",
    "        answer = elt[0].split('?')[1].strip()\n",
    "        dic[question] = {\"reponse\": answer, \"options\": options}\n",
    "    return dic\n",
    "\n",
    "def main():\n",
    "    m_score = 0\n",
    "    fileData = getData()\n",
    "    m_dic = processData(fileData)\n",
    "    keys = list(m_dic.keys())\n",
    "    random.shuffle(keys)\n",
    "    taille = len(m_dic)\n",
    "\n",
    "    while True:\n",
    "        for key in tqdm(keys, bar_format=\"{l_bar}{bar}{r_bar}\", colour=\"green\"):\n",
    "            print()\n",
    "            print(key)\n",
    "            printList(m_dic[key]['options'])\n",
    "            sleep(0.5) #utilisation de sleep car avec le jupiter jai remarque il n'ya pas assez de temps pour afficher les options pour la fonction printList\n",
    "            b = input(\"Entrez votre réponse (a, b, c ou d) : \")\n",
    "            while b not in ['a', 'b', 'c', 'd']:\n",
    "                print(\"Veuillez entrer une réponse valide (a, b, c ou d)\")\n",
    "                b = input(\"Entrez votre réponse (a, b, c ou d) : \")\n",
    "            if b == m_dic[key]['reponse']:\n",
    "                m_score += 1\n",
    "                \n",
    "            \n",
    "            #os.system('clear') j'ai d'abord utilise os.system('clear') pour nettoyer le terminal mais etant donne qu'on utilise desormais jupyter\n",
    "            clear_output() #clear output est plus approprie\n",
    "            \n",
    "\n",
    "        print(\"Votre score est de : \", m_score, \"/\", taille)\n",
    "        c = input(\"Voulez-vous continuer ? (O/N) \")\n",
    "        if c.upper() == 'N':\n",
    "            break\n",
    "        else:\n",
    "            random.shuffle(keys)\n",
    "            m_score = 0\n",
    "            #os.system('clear')\n",
    "            clear_output()\n",
    "\n",
    "\n",
    "if __name__ == \"__main__\":\n",
    "    main()\n"
   ]
  }
 ],
 "metadata": {
  "kernelspec": {
   "display_name": "Python 3",
   "language": "python",
   "name": "python3"
  },
  "language_info": {
   "codemirror_mode": {
    "name": "ipython",
    "version": 3
   },
   "file_extension": ".py",
   "mimetype": "text/x-python",
   "name": "python",
   "nbconvert_exporter": "python",
   "pygments_lexer": "ipython3",
   "version": "3.11.8"
  }
 },
 "nbformat": 4,
 "nbformat_minor": 2
}
